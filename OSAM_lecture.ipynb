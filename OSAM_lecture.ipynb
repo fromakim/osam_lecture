{
  "nbformat": 4,
  "nbformat_minor": 0,
  "metadata": {
    "colab": {
      "name": "OSAM lecture.ipynb",
      "provenance": [],
      "authorship_tag": "ABX9TyMUHuyWM1wjC+enAz96dhki",
      "include_colab_link": true
    },
    "kernelspec": {
      "name": "python3",
      "display_name": "Python 3"
    },
    "language_info": {
      "name": "python"
    }
  },
  "cells": [
    {
      "cell_type": "markdown",
      "metadata": {
        "id": "view-in-github",
        "colab_type": "text"
      },
      "source": [
        "<a href=\"https://colab.research.google.com/github/fromakim/osam_lecture/blob/main/OSAM_lecture.ipynb\" target=\"_parent\"><img src=\"https://colab.research.google.com/assets/colab-badge.svg\" alt=\"Open In Colab\"/></a>"
      ]
    },
    {
      "cell_type": "markdown",
      "metadata": {
        "id": "uWy_0HQJU_CX"
      },
      "source": [
        "# OSAM Lecture Practice"
      ]
    },
    {
      "cell_type": "markdown",
      "metadata": {
        "id": "fYVxChhBVPAA"
      },
      "source": [
        "## a. Background Settings"
      ]
    },
    {
      "cell_type": "code",
      "metadata": {
        "colab": {
          "base_uri": "https://localhost:8080/"
        },
        "id": "AQ9HYKcxVOOS",
        "outputId": "3acaf781-577a-428c-c853-64413670f359"
      },
      "source": [
        "import pathlib\n",
        "\n",
        "import matplotlib.pyplot as plt\n",
        "import pandas as pd\n",
        "import seaborn as sns\n",
        "\n",
        "import tensorflow as tf\n",
        "from tensorflow import keras\n",
        "from tensorflow.keras import layers\n",
        "\n",
        "import numpy as np\n",
        "import matplotlib.pyplot as plt\n",
        "\n",
        "print(tf.__version__)"
      ],
      "execution_count": 2,
      "outputs": [
        {
          "output_type": "stream",
          "text": [
            "2.5.0\n"
          ],
          "name": "stdout"
        }
      ]
    },
    {
      "cell_type": "markdown",
      "metadata": {
        "id": "6253oTSZVELR"
      },
      "source": [
        "## b. Linear Regression"
      ]
    },
    {
      "cell_type": "markdown",
      "metadata": {
        "id": "yV2x0PLnZOSS"
      },
      "source": [
        "### b-1. Import Dataset"
      ]
    },
    {
      "cell_type": "code",
      "metadata": {
        "colab": {
          "base_uri": "https://localhost:8080/",
          "height": 36
        },
        "id": "Fz2kEmuXU8Ox",
        "outputId": "53bb812f-46e0-4e9a-d2d8-6318dabc9d19"
      },
      "source": [
        "dataset_path = keras.utils.get_file(\"auto-mpg.data\", \"http://archive.ics.uci.edu/ml/machine-learning-databases/auto-mpg/auto-mpg.data\")\n",
        "dataset_path"
      ],
      "execution_count": null,
      "outputs": [
        {
          "output_type": "execute_result",
          "data": {
            "application/vnd.google.colaboratory.intrinsic+json": {
              "type": "string"
            },
            "text/plain": [
              "'/root/.keras/datasets/auto-mpg.data'"
            ]
          },
          "metadata": {
            "tags": []
          },
          "execution_count": 2
        }
      ]
    },
    {
      "cell_type": "markdown",
      "metadata": {
        "id": "iNjDxXa2ZQw8"
      },
      "source": [
        "### b-2. Dataset Building"
      ]
    },
    {
      "cell_type": "code",
      "metadata": {
        "colab": {
          "base_uri": "https://localhost:8080/",
          "height": 204
        },
        "id": "zCSbWWjNXVwo",
        "outputId": "e6c1e1e8-cdc5-4c76-9beb-e2a8c119da5d"
      },
      "source": [
        "column_names = ['MPG', 'Cylinders', 'Displacement', 'Horsepower', 'Weight', \n",
        "                'Acceleration', 'Model Year', 'Origin']\n",
        "raw_dataset = pd.read_csv(dataset_path, names = column_names, na_values = '?', \n",
        "                          comment = '\\t', sep = ' ', skipinitialspace = True)\n",
        "\n",
        "dataset = raw_dataset.copy()\n",
        "dataset.tail()"
      ],
      "execution_count": null,
      "outputs": [
        {
          "output_type": "execute_result",
          "data": {
            "text/html": [
              "<div>\n",
              "<style scoped>\n",
              "    .dataframe tbody tr th:only-of-type {\n",
              "        vertical-align: middle;\n",
              "    }\n",
              "\n",
              "    .dataframe tbody tr th {\n",
              "        vertical-align: top;\n",
              "    }\n",
              "\n",
              "    .dataframe thead th {\n",
              "        text-align: right;\n",
              "    }\n",
              "</style>\n",
              "<table border=\"1\" class=\"dataframe\">\n",
              "  <thead>\n",
              "    <tr style=\"text-align: right;\">\n",
              "      <th></th>\n",
              "      <th>MPG</th>\n",
              "      <th>Cylinders</th>\n",
              "      <th>Displacement</th>\n",
              "      <th>Horsepower</th>\n",
              "      <th>Weight</th>\n",
              "      <th>Acceleration</th>\n",
              "      <th>Model Year</th>\n",
              "      <th>Origin</th>\n",
              "    </tr>\n",
              "  </thead>\n",
              "  <tbody>\n",
              "    <tr>\n",
              "      <th>393</th>\n",
              "      <td>27.0</td>\n",
              "      <td>4</td>\n",
              "      <td>140.0</td>\n",
              "      <td>86.0</td>\n",
              "      <td>2790.0</td>\n",
              "      <td>15.6</td>\n",
              "      <td>82</td>\n",
              "      <td>1</td>\n",
              "    </tr>\n",
              "    <tr>\n",
              "      <th>394</th>\n",
              "      <td>44.0</td>\n",
              "      <td>4</td>\n",
              "      <td>97.0</td>\n",
              "      <td>52.0</td>\n",
              "      <td>2130.0</td>\n",
              "      <td>24.6</td>\n",
              "      <td>82</td>\n",
              "      <td>2</td>\n",
              "    </tr>\n",
              "    <tr>\n",
              "      <th>395</th>\n",
              "      <td>32.0</td>\n",
              "      <td>4</td>\n",
              "      <td>135.0</td>\n",
              "      <td>84.0</td>\n",
              "      <td>2295.0</td>\n",
              "      <td>11.6</td>\n",
              "      <td>82</td>\n",
              "      <td>1</td>\n",
              "    </tr>\n",
              "    <tr>\n",
              "      <th>396</th>\n",
              "      <td>28.0</td>\n",
              "      <td>4</td>\n",
              "      <td>120.0</td>\n",
              "      <td>79.0</td>\n",
              "      <td>2625.0</td>\n",
              "      <td>18.6</td>\n",
              "      <td>82</td>\n",
              "      <td>1</td>\n",
              "    </tr>\n",
              "    <tr>\n",
              "      <th>397</th>\n",
              "      <td>31.0</td>\n",
              "      <td>4</td>\n",
              "      <td>119.0</td>\n",
              "      <td>82.0</td>\n",
              "      <td>2720.0</td>\n",
              "      <td>19.4</td>\n",
              "      <td>82</td>\n",
              "      <td>1</td>\n",
              "    </tr>\n",
              "  </tbody>\n",
              "</table>\n",
              "</div>"
            ],
            "text/plain": [
              "      MPG  Cylinders  Displacement  ...  Acceleration  Model Year  Origin\n",
              "393  27.0          4         140.0  ...          15.6          82       1\n",
              "394  44.0          4          97.0  ...          24.6          82       2\n",
              "395  32.0          4         135.0  ...          11.6          82       1\n",
              "396  28.0          4         120.0  ...          18.6          82       1\n",
              "397  31.0          4         119.0  ...          19.4          82       1\n",
              "\n",
              "[5 rows x 8 columns]"
            ]
          },
          "metadata": {
            "tags": []
          },
          "execution_count": 3
        }
      ]
    },
    {
      "cell_type": "code",
      "metadata": {
        "id": "6m_7DdFuX9Jk"
      },
      "source": [
        "dataset = dataset.dropna()"
      ],
      "execution_count": null,
      "outputs": []
    },
    {
      "cell_type": "code",
      "metadata": {
        "colab": {
          "base_uri": "https://localhost:8080/"
        },
        "id": "BEdrrzkSYAmt",
        "outputId": "353df297-247b-42ef-af0d-f5afbd5abe63"
      },
      "source": [
        "dataset.shape"
      ],
      "execution_count": null,
      "outputs": [
        {
          "output_type": "execute_result",
          "data": {
            "text/plain": [
              "(392, 8)"
            ]
          },
          "metadata": {
            "tags": []
          },
          "execution_count": 5
        }
      ]
    },
    {
      "cell_type": "code",
      "metadata": {
        "colab": {
          "base_uri": "https://localhost:8080/"
        },
        "id": "Q-eIIpyTYQ5Q",
        "outputId": "26be37f6-3a6d-4991-a561-b49a6d5545b7"
      },
      "source": [
        "dataset.pop('Origin')"
      ],
      "execution_count": null,
      "outputs": [
        {
          "output_type": "execute_result",
          "data": {
            "text/plain": [
              "0      1\n",
              "1      1\n",
              "2      1\n",
              "3      1\n",
              "4      1\n",
              "      ..\n",
              "393    1\n",
              "394    2\n",
              "395    1\n",
              "396    1\n",
              "397    1\n",
              "Name: Origin, Length: 392, dtype: int64"
            ]
          },
          "metadata": {
            "tags": []
          },
          "execution_count": 6
        }
      ]
    },
    {
      "cell_type": "code",
      "metadata": {
        "id": "O3ron5tmYZFS"
      },
      "source": [
        "train_dataset = dataset.sample(frac = 0.8, random_state = 0)\n",
        "test_dataset = dataset.drop(train_dataset.index)"
      ],
      "execution_count": null,
      "outputs": []
    },
    {
      "cell_type": "code",
      "metadata": {
        "colab": {
          "base_uri": "https://localhost:8080/"
        },
        "id": "l52R2rgVYv24",
        "outputId": "98dfa4c7-cba5-4de7-be38-15b8b9e80e85"
      },
      "source": [
        "print(train_dataset.shape)\n",
        "print(test_dataset.shape)"
      ],
      "execution_count": null,
      "outputs": [
        {
          "output_type": "stream",
          "text": [
            "(314, 7)\n",
            "(78, 7)\n"
          ],
          "name": "stdout"
        }
      ]
    },
    {
      "cell_type": "code",
      "metadata": {
        "colab": {
          "base_uri": "https://localhost:8080/",
          "height": 235
        },
        "id": "Ze0zNbGaYoN5",
        "outputId": "4a8c15d3-47db-4db3-96f5-c99d63979181"
      },
      "source": [
        "train_stats = train_dataset.describe()\n",
        "train_stats.pop('MPG')\n",
        "train_stats = train_stats.transpose()\n",
        "train_stats"
      ],
      "execution_count": null,
      "outputs": [
        {
          "output_type": "execute_result",
          "data": {
            "text/html": [
              "<div>\n",
              "<style scoped>\n",
              "    .dataframe tbody tr th:only-of-type {\n",
              "        vertical-align: middle;\n",
              "    }\n",
              "\n",
              "    .dataframe tbody tr th {\n",
              "        vertical-align: top;\n",
              "    }\n",
              "\n",
              "    .dataframe thead th {\n",
              "        text-align: right;\n",
              "    }\n",
              "</style>\n",
              "<table border=\"1\" class=\"dataframe\">\n",
              "  <thead>\n",
              "    <tr style=\"text-align: right;\">\n",
              "      <th></th>\n",
              "      <th>count</th>\n",
              "      <th>mean</th>\n",
              "      <th>std</th>\n",
              "      <th>min</th>\n",
              "      <th>25%</th>\n",
              "      <th>50%</th>\n",
              "      <th>75%</th>\n",
              "      <th>max</th>\n",
              "    </tr>\n",
              "  </thead>\n",
              "  <tbody>\n",
              "    <tr>\n",
              "      <th>Cylinders</th>\n",
              "      <td>314.0</td>\n",
              "      <td>5.477707</td>\n",
              "      <td>1.699788</td>\n",
              "      <td>3.0</td>\n",
              "      <td>4.00</td>\n",
              "      <td>4.0</td>\n",
              "      <td>8.00</td>\n",
              "      <td>8.0</td>\n",
              "    </tr>\n",
              "    <tr>\n",
              "      <th>Displacement</th>\n",
              "      <td>314.0</td>\n",
              "      <td>195.318471</td>\n",
              "      <td>104.331589</td>\n",
              "      <td>68.0</td>\n",
              "      <td>105.50</td>\n",
              "      <td>151.0</td>\n",
              "      <td>265.75</td>\n",
              "      <td>455.0</td>\n",
              "    </tr>\n",
              "    <tr>\n",
              "      <th>Horsepower</th>\n",
              "      <td>314.0</td>\n",
              "      <td>104.869427</td>\n",
              "      <td>38.096214</td>\n",
              "      <td>46.0</td>\n",
              "      <td>76.25</td>\n",
              "      <td>94.5</td>\n",
              "      <td>128.00</td>\n",
              "      <td>225.0</td>\n",
              "    </tr>\n",
              "    <tr>\n",
              "      <th>Weight</th>\n",
              "      <td>314.0</td>\n",
              "      <td>2990.251592</td>\n",
              "      <td>843.898596</td>\n",
              "      <td>1649.0</td>\n",
              "      <td>2256.50</td>\n",
              "      <td>2822.5</td>\n",
              "      <td>3608.00</td>\n",
              "      <td>5140.0</td>\n",
              "    </tr>\n",
              "    <tr>\n",
              "      <th>Acceleration</th>\n",
              "      <td>314.0</td>\n",
              "      <td>15.559236</td>\n",
              "      <td>2.789230</td>\n",
              "      <td>8.0</td>\n",
              "      <td>13.80</td>\n",
              "      <td>15.5</td>\n",
              "      <td>17.20</td>\n",
              "      <td>24.8</td>\n",
              "    </tr>\n",
              "    <tr>\n",
              "      <th>Model Year</th>\n",
              "      <td>314.0</td>\n",
              "      <td>75.898089</td>\n",
              "      <td>3.675642</td>\n",
              "      <td>70.0</td>\n",
              "      <td>73.00</td>\n",
              "      <td>76.0</td>\n",
              "      <td>79.00</td>\n",
              "      <td>82.0</td>\n",
              "    </tr>\n",
              "  </tbody>\n",
              "</table>\n",
              "</div>"
            ],
            "text/plain": [
              "              count         mean         std  ...     50%      75%     max\n",
              "Cylinders     314.0     5.477707    1.699788  ...     4.0     8.00     8.0\n",
              "Displacement  314.0   195.318471  104.331589  ...   151.0   265.75   455.0\n",
              "Horsepower    314.0   104.869427   38.096214  ...    94.5   128.00   225.0\n",
              "Weight        314.0  2990.251592  843.898596  ...  2822.5  3608.00  5140.0\n",
              "Acceleration  314.0    15.559236    2.789230  ...    15.5    17.20    24.8\n",
              "Model Year    314.0    75.898089    3.675642  ...    76.0    79.00    82.0\n",
              "\n",
              "[6 rows x 8 columns]"
            ]
          },
          "metadata": {
            "tags": []
          },
          "execution_count": 9
        }
      ]
    },
    {
      "cell_type": "code",
      "metadata": {
        "id": "0GE--IhVZE2R"
      },
      "source": [
        "train_labels = train_dataset.pop('MPG')\n",
        "test_labels = test_dataset.pop('MPG')"
      ],
      "execution_count": null,
      "outputs": []
    },
    {
      "cell_type": "markdown",
      "metadata": {
        "id": "k_3Cg4MQZWE9"
      },
      "source": [
        "### b-3. Data Normalization"
      ]
    },
    {
      "cell_type": "code",
      "metadata": {
        "id": "_eTiBq13ZV0M"
      },
      "source": [
        "def norm(x):\n",
        "    return (x - train_stats['mean']) / train_stats['std']"
      ],
      "execution_count": null,
      "outputs": []
    },
    {
      "cell_type": "code",
      "metadata": {
        "id": "esYf0Ic3Znwy"
      },
      "source": [
        "normed_train_data = norm(train_dataset)\n",
        "normed_test_data = norm(test_dataset)"
      ],
      "execution_count": null,
      "outputs": []
    },
    {
      "cell_type": "code",
      "metadata": {
        "colab": {
          "base_uri": "https://localhost:8080/",
          "height": 204
        },
        "id": "x4mKB-_UZszD",
        "outputId": "f1199a98-7b82-4006-c8e3-09066b518ef3"
      },
      "source": [
        "normed_train_data.head()"
      ],
      "execution_count": null,
      "outputs": [
        {
          "output_type": "execute_result",
          "data": {
            "text/html": [
              "<div>\n",
              "<style scoped>\n",
              "    .dataframe tbody tr th:only-of-type {\n",
              "        vertical-align: middle;\n",
              "    }\n",
              "\n",
              "    .dataframe tbody tr th {\n",
              "        vertical-align: top;\n",
              "    }\n",
              "\n",
              "    .dataframe thead th {\n",
              "        text-align: right;\n",
              "    }\n",
              "</style>\n",
              "<table border=\"1\" class=\"dataframe\">\n",
              "  <thead>\n",
              "    <tr style=\"text-align: right;\">\n",
              "      <th></th>\n",
              "      <th>Cylinders</th>\n",
              "      <th>Displacement</th>\n",
              "      <th>Horsepower</th>\n",
              "      <th>Weight</th>\n",
              "      <th>Acceleration</th>\n",
              "      <th>Model Year</th>\n",
              "    </tr>\n",
              "  </thead>\n",
              "  <tbody>\n",
              "    <tr>\n",
              "      <th>146</th>\n",
              "      <td>-0.869348</td>\n",
              "      <td>-1.009459</td>\n",
              "      <td>-0.784052</td>\n",
              "      <td>-1.025303</td>\n",
              "      <td>-0.379759</td>\n",
              "      <td>-0.516397</td>\n",
              "    </tr>\n",
              "    <tr>\n",
              "      <th>282</th>\n",
              "      <td>-0.869348</td>\n",
              "      <td>-0.530218</td>\n",
              "      <td>-0.442811</td>\n",
              "      <td>-0.118796</td>\n",
              "      <td>0.624102</td>\n",
              "      <td>0.843910</td>\n",
              "    </tr>\n",
              "    <tr>\n",
              "      <th>69</th>\n",
              "      <td>1.483887</td>\n",
              "      <td>1.482595</td>\n",
              "      <td>1.447140</td>\n",
              "      <td>1.736877</td>\n",
              "      <td>-0.738281</td>\n",
              "      <td>-1.060519</td>\n",
              "    </tr>\n",
              "    <tr>\n",
              "      <th>378</th>\n",
              "      <td>-0.869348</td>\n",
              "      <td>-0.865687</td>\n",
              "      <td>-1.099044</td>\n",
              "      <td>-1.025303</td>\n",
              "      <td>-0.308055</td>\n",
              "      <td>1.660094</td>\n",
              "    </tr>\n",
              "    <tr>\n",
              "      <th>331</th>\n",
              "      <td>-0.869348</td>\n",
              "      <td>-0.942365</td>\n",
              "      <td>-0.994047</td>\n",
              "      <td>-1.001603</td>\n",
              "      <td>0.875068</td>\n",
              "      <td>1.115971</td>\n",
              "    </tr>\n",
              "  </tbody>\n",
              "</table>\n",
              "</div>"
            ],
            "text/plain": [
              "     Cylinders  Displacement  Horsepower    Weight  Acceleration  Model Year\n",
              "146  -0.869348     -1.009459   -0.784052 -1.025303     -0.379759   -0.516397\n",
              "282  -0.869348     -0.530218   -0.442811 -0.118796      0.624102    0.843910\n",
              "69    1.483887      1.482595    1.447140  1.736877     -0.738281   -1.060519\n",
              "378  -0.869348     -0.865687   -1.099044 -1.025303     -0.308055    1.660094\n",
              "331  -0.869348     -0.942365   -0.994047 -1.001603      0.875068    1.115971"
            ]
          },
          "metadata": {
            "tags": []
          },
          "execution_count": 13
        }
      ]
    },
    {
      "cell_type": "markdown",
      "metadata": {
        "id": "gwAt0pJxZzWH"
      },
      "source": [
        "### b-4. Build Model"
      ]
    },
    {
      "cell_type": "code",
      "metadata": {
        "colab": {
          "base_uri": "https://localhost:8080/"
        },
        "id": "7ZblTUMeZ2Sz",
        "outputId": "0998171c-94ae-4735-ebdf-637132e506b0"
      },
      "source": [
        "train_dataset.shape"
      ],
      "execution_count": null,
      "outputs": [
        {
          "output_type": "execute_result",
          "data": {
            "text/plain": [
              "(314, 6)"
            ]
          },
          "metadata": {
            "tags": []
          },
          "execution_count": 14
        }
      ]
    },
    {
      "cell_type": "code",
      "metadata": {
        "colab": {
          "base_uri": "https://localhost:8080/"
        },
        "id": "32MorKxOZ4VS",
        "outputId": "0e0334c9-b396-4959-d300-5ec8d5d87ee0"
      },
      "source": [
        "inputs = keras.Input(shape=(train_dataset.shape[1],))\n",
        "inputs"
      ],
      "execution_count": null,
      "outputs": [
        {
          "output_type": "execute_result",
          "data": {
            "text/plain": [
              "<KerasTensor: shape=(None, 6) dtype=float32 (created by layer 'input_1')>"
            ]
          },
          "metadata": {
            "tags": []
          },
          "execution_count": 15
        }
      ]
    },
    {
      "cell_type": "code",
      "metadata": {
        "colab": {
          "base_uri": "https://localhost:8080/"
        },
        "id": "7bYL3oFraIGp",
        "outputId": "73b3cd2f-4321-485c-d81a-860096880458"
      },
      "source": [
        "h = layers.Dense(64)(inputs)\n",
        "h"
      ],
      "execution_count": null,
      "outputs": [
        {
          "output_type": "execute_result",
          "data": {
            "text/plain": [
              "<KerasTensor: shape=(None, 64) dtype=float32 (created by layer 'dense')>"
            ]
          },
          "metadata": {
            "tags": []
          },
          "execution_count": 16
        }
      ]
    },
    {
      "cell_type": "code",
      "metadata": {
        "colab": {
          "base_uri": "https://localhost:8080/"
        },
        "id": "nYZNcXKeaWgd",
        "outputId": "c4b23bdc-72e1-4d87-9e53-d2c62b485ae5"
      },
      "source": [
        "outputs = layers.Dense(1)(h)\n",
        "outputs"
      ],
      "execution_count": null,
      "outputs": [
        {
          "output_type": "execute_result",
          "data": {
            "text/plain": [
              "<KerasTensor: shape=(None, 1) dtype=float32 (created by layer 'dense_1')>"
            ]
          },
          "metadata": {
            "tags": []
          },
          "execution_count": 17
        }
      ]
    },
    {
      "cell_type": "code",
      "metadata": {
        "id": "d4bvpiubadVb"
      },
      "source": [
        "model = keras.Model(inputs = inputs, outputs = outputs)"
      ],
      "execution_count": null,
      "outputs": []
    },
    {
      "cell_type": "markdown",
      "metadata": {
        "id": "jcSuZgv1bGQ-"
      },
      "source": [
        "### b-5. Show Model Structure\n",
        "\n",
        "model.summary -> show brief model info"
      ]
    },
    {
      "cell_type": "code",
      "metadata": {
        "colab": {
          "base_uri": "https://localhost:8080/"
        },
        "id": "1T96jqwTaiAf",
        "outputId": "00b7e704-76aa-4bbf-8995-d2a3de65b099"
      },
      "source": [
        "model.summary()"
      ],
      "execution_count": null,
      "outputs": [
        {
          "output_type": "stream",
          "text": [
            "Model: \"model\"\n",
            "_________________________________________________________________\n",
            "Layer (type)                 Output Shape              Param #   \n",
            "=================================================================\n",
            "input_1 (InputLayer)         [(None, 6)]               0         \n",
            "_________________________________________________________________\n",
            "dense (Dense)                (None, 64)                448       \n",
            "_________________________________________________________________\n",
            "dense_1 (Dense)              (None, 1)                 65        \n",
            "=================================================================\n",
            "Total params: 513\n",
            "Trainable params: 513\n",
            "Non-trainable params: 0\n",
            "_________________________________________________________________\n"
          ],
          "name": "stdout"
        }
      ]
    },
    {
      "cell_type": "code",
      "metadata": {
        "colab": {
          "base_uri": "https://localhost:8080/",
          "height": 312
        },
        "id": "bL6XpEHIajem",
        "outputId": "fb893ef2-4127-453c-aff5-4547f90c6050"
      },
      "source": [
        "keras.utils.plot_model(model, 'model.png', show_shapes=True)"
      ],
      "execution_count": null,
      "outputs": [
        {
          "output_type": "execute_result",
          "data": {
            "image/png": "[encoded data removed]",
            "text/plain": [
              "<IPython.core.display.Image object>"
            ]
          },
          "metadata": {
            "tags": []
          },
          "execution_count": 20
        }
      ]
    },
    {
      "cell_type": "markdown",
      "metadata": {
        "id": "WoGwna1bbUFd"
      },
      "source": [
        "### b-6. Set Loss Function & Optimizer Function\n",
        "\n",
        "model.compile -> set loss func and optimizer"
      ]
    },
    {
      "cell_type": "code",
      "metadata": {
        "id": "8WXmMlFdaw3r"
      },
      "source": [
        "model.compile(loss = 'mse', optimizer = tf.keras.optimizers.RMSprop(0.001))"
      ],
      "execution_count": null,
      "outputs": []
    },
    {
      "cell_type": "markdown",
      "metadata": {
        "id": "WO_8CrqIb9Ck"
      },
      "source": [
        "### b-7. Verify Calculation\n",
        "\n",
        "model.predict -> calculate y based on x and parameters"
      ]
    },
    {
      "cell_type": "code",
      "metadata": {
        "colab": {
          "base_uri": "https://localhost:8080/"
        },
        "id": "PoqOGS5rbuCA",
        "outputId": "599e6030-bca6-4115-b7c7-e4519c47b6c6"
      },
      "source": [
        "example_batch = normed_train_data[:10]\n",
        "example_result = model.predict(example_batch)\n",
        "example_result"
      ],
      "execution_count": null,
      "outputs": [
        {
          "output_type": "execute_result",
          "data": {
            "text/plain": [
              "array([[-5.1896647e-02],\n",
              "       [-2.7654162e-01],\n",
              "       [ 5.4604781e-01],\n",
              "       [-5.8816653e-01],\n",
              "       [-4.3282133e-01],\n",
              "       [-1.4209747e-04],\n",
              "       [-4.3722975e-01],\n",
              "       [-1.7755163e-01],\n",
              "       [ 2.1961081e-01],\n",
              "       [ 4.3353513e-02]], dtype=float32)"
            ]
          },
          "metadata": {
            "tags": []
          },
          "execution_count": 22
        }
      ]
    },
    {
      "cell_type": "markdown",
      "metadata": {
        "id": "lHoXX8D2cKoH"
      },
      "source": [
        "### b-8. Run Model\n",
        "\n",
        "model.fit -> Run Learning Process."
      ]
    },
    {
      "cell_type": "code",
      "metadata": {
        "id": "ZCIp-5yEb_BB"
      },
      "source": [
        "epochs = 100\n",
        "\n",
        "history = model.fit(\n",
        "    normed_train_data,\n",
        "    train_labels,\n",
        "    epochs = epochs,\n",
        "    validation_split = 0.2\n",
        ")"
      ],
      "execution_count": null,
      "outputs": []
    },
    {
      "cell_type": "code",
      "metadata": {
        "id": "lsX4zA92cWe8"
      },
      "source": [
        "early_stop = keras.callbacks.EarlyStopping(monitor = 'val_loss', patience = 3)\n",
        "\n",
        "history = model.fit(\n",
        "    normed_train_data,\n",
        "    train_labels,\n",
        "    epochs = epochs,\n",
        "    validation_split = 0.2\n",
        ")"
      ],
      "execution_count": null,
      "outputs": []
    },
    {
      "cell_type": "code",
      "metadata": {
        "colab": {
          "base_uri": "https://localhost:8080/"
        },
        "id": "uMQwaacEdLH9",
        "outputId": "0f2a6fd1-2ec4-422a-be91-ec3765ba6440"
      },
      "source": [
        "loss = model.evaluate(normed_test_data, test_labels, verbose = 2)\n",
        "print('Average MSE : {:5.2f} MPG'.format(loss))"
      ],
      "execution_count": null,
      "outputs": [
        {
          "output_type": "stream",
          "text": [
            "3/3 - 0s - loss: 10.7629\n",
            "Average MSE : 10.76 MPG\n"
          ],
          "name": "stdout"
        }
      ]
    },
    {
      "cell_type": "code",
      "metadata": {
        "colab": {
          "base_uri": "https://localhost:8080/",
          "height": 279
        },
        "id": "4uRxs4ewdfB9",
        "outputId": "b2f8b014-a2fc-4e59-db62-aa4e1846d365"
      },
      "source": [
        "test_predictions = model.predict(normed_test_data).flatten()\n",
        "\n",
        "plt.scatter(test_labels, test_predictions)\n",
        "plt.xlabel('True Value MPG')\n",
        "plt.ylabel('Predictions MPG')\n",
        "plt.axis('equal')\n",
        "plt.axis('square')\n",
        "plt.xlim([0, plt.xlim()[1]])\n",
        "plt.ylim([0, plt.ylim()[1]])\n",
        "_ = plt.plot([-100, 100], [-100, 100])"
      ],
      "execution_count": null,
      "outputs": [
        {
          "output_type": "display_data",
          "data": {
            "image/png": "[encoded data removed]",
            "text/plain": [
              "<Figure size 432x288 with 1 Axes>"
            ]
          },
          "metadata": {
            "tags": [],
            "needs_background": "light"
          }
        }
      ]
    },
    {
      "cell_type": "markdown",
      "metadata": {
        "id": "xYK1adtRc9dw"
      },
      "source": [
        "## c. Linear Regression"
      ]
    },
    {
      "cell_type": "markdown",
      "metadata": {
        "id": "UC2poHZWc9dy"
      },
      "source": [
        "### c-1. Import Dataset"
      ]
    },
    {
      "cell_type": "code",
      "metadata": {
        "colab": {
          "base_uri": "https://localhost:8080/",
          "height": 70
        },
        "id": "oS8OFcRmc9dz",
        "outputId": "af9f4de9-3a36-4e8a-ea56-b1837976aa6d"
      },
      "source": [
        "dataset_path = keras.utils.get_file(\"auto-mpg.data\", \"http://archive.ics.uci.edu/ml/machine-learning-databases/auto-mpg/auto-mpg.data\")\n",
        "dataset_path"
      ],
      "execution_count": null,
      "outputs": [
        {
          "output_type": "stream",
          "text": [
            "Downloading data from http://archive.ics.uci.edu/ml/machine-learning-databases/auto-mpg/auto-mpg.data\n",
            "32768/30286 [================================] - 0s 2us/step\n"
          ],
          "name": "stdout"
        },
        {
          "output_type": "execute_result",
          "data": {
            "application/vnd.google.colaboratory.intrinsic+json": {
              "type": "string"
            },
            "text/plain": [
              "'/root/.keras/datasets/auto-mpg.data'"
            ]
          },
          "metadata": {
            "tags": []
          },
          "execution_count": 3
        }
      ]
    },
    {
      "cell_type": "markdown",
      "metadata": {
        "id": "lEr0_frsc9d2"
      },
      "source": [
        "### c-2. Dataset Building"
      ]
    },
    {
      "cell_type": "code",
      "metadata": {
        "colab": {
          "base_uri": "https://localhost:8080/",
          "height": 204
        },
        "id": "VwucTHnmc9d3",
        "outputId": "1ff3f278-0c1f-4d31-962e-6ce1a2c73fb7"
      },
      "source": [
        "column_names = ['MPG', 'Cylinders', 'Displacement', 'Horsepower', 'Weight', \n",
        "                'Acceleration', 'Model Year', 'Origin']\n",
        "raw_dataset = pd.read_csv(dataset_path, names = column_names, na_values = '?', \n",
        "                          comment = '\\t', sep = ' ', skipinitialspace = True)\n",
        "\n",
        "dataset = raw_dataset.copy()\n",
        "dataset.tail()"
      ],
      "execution_count": null,
      "outputs": [
        {
          "output_type": "execute_result",
          "data": {
            "text/html": [
              "<div>\n",
              "<style scoped>\n",
              "    .dataframe tbody tr th:only-of-type {\n",
              "        vertical-align: middle;\n",
              "    }\n",
              "\n",
              "    .dataframe tbody tr th {\n",
              "        vertical-align: top;\n",
              "    }\n",
              "\n",
              "    .dataframe thead th {\n",
              "        text-align: right;\n",
              "    }\n",
              "</style>\n",
              "<table border=\"1\" class=\"dataframe\">\n",
              "  <thead>\n",
              "    <tr style=\"text-align: right;\">\n",
              "      <th></th>\n",
              "      <th>MPG</th>\n",
              "      <th>Cylinders</th>\n",
              "      <th>Displacement</th>\n",
              "      <th>Horsepower</th>\n",
              "      <th>Weight</th>\n",
              "      <th>Acceleration</th>\n",
              "      <th>Model Year</th>\n",
              "      <th>Origin</th>\n",
              "    </tr>\n",
              "  </thead>\n",
              "  <tbody>\n",
              "    <tr>\n",
              "      <th>393</th>\n",
              "      <td>27.0</td>\n",
              "      <td>4</td>\n",
              "      <td>140.0</td>\n",
              "      <td>86.0</td>\n",
              "      <td>2790.0</td>\n",
              "      <td>15.6</td>\n",
              "      <td>82</td>\n",
              "      <td>1</td>\n",
              "    </tr>\n",
              "    <tr>\n",
              "      <th>394</th>\n",
              "      <td>44.0</td>\n",
              "      <td>4</td>\n",
              "      <td>97.0</td>\n",
              "      <td>52.0</td>\n",
              "      <td>2130.0</td>\n",
              "      <td>24.6</td>\n",
              "      <td>82</td>\n",
              "      <td>2</td>\n",
              "    </tr>\n",
              "    <tr>\n",
              "      <th>395</th>\n",
              "      <td>32.0</td>\n",
              "      <td>4</td>\n",
              "      <td>135.0</td>\n",
              "      <td>84.0</td>\n",
              "      <td>2295.0</td>\n",
              "      <td>11.6</td>\n",
              "      <td>82</td>\n",
              "      <td>1</td>\n",
              "    </tr>\n",
              "    <tr>\n",
              "      <th>396</th>\n",
              "      <td>28.0</td>\n",
              "      <td>4</td>\n",
              "      <td>120.0</td>\n",
              "      <td>79.0</td>\n",
              "      <td>2625.0</td>\n",
              "      <td>18.6</td>\n",
              "      <td>82</td>\n",
              "      <td>1</td>\n",
              "    </tr>\n",
              "    <tr>\n",
              "      <th>397</th>\n",
              "      <td>31.0</td>\n",
              "      <td>4</td>\n",
              "      <td>119.0</td>\n",
              "      <td>82.0</td>\n",
              "      <td>2720.0</td>\n",
              "      <td>19.4</td>\n",
              "      <td>82</td>\n",
              "      <td>1</td>\n",
              "    </tr>\n",
              "  </tbody>\n",
              "</table>\n",
              "</div>"
            ],
            "text/plain": [
              "      MPG  Cylinders  Displacement  ...  Acceleration  Model Year  Origin\n",
              "393  27.0          4         140.0  ...          15.6          82       1\n",
              "394  44.0          4          97.0  ...          24.6          82       2\n",
              "395  32.0          4         135.0  ...          11.6          82       1\n",
              "396  28.0          4         120.0  ...          18.6          82       1\n",
              "397  31.0          4         119.0  ...          19.4          82       1\n",
              "\n",
              "[5 rows x 8 columns]"
            ]
          },
          "metadata": {
            "tags": []
          },
          "execution_count": 4
        }
      ]
    },
    {
      "cell_type": "code",
      "metadata": {
        "id": "ct45ZCnMc9d3"
      },
      "source": [
        "dataset = dataset.dropna()"
      ],
      "execution_count": null,
      "outputs": []
    },
    {
      "cell_type": "code",
      "metadata": {
        "colab": {
          "base_uri": "https://localhost:8080/"
        },
        "id": "c9jKoyuGc9d5",
        "outputId": "9df8d4e0-e0db-4922-f077-8f9ea31a709a"
      },
      "source": [
        "dataset.shape"
      ],
      "execution_count": null,
      "outputs": [
        {
          "output_type": "execute_result",
          "data": {
            "text/plain": [
              "(392, 8)"
            ]
          },
          "metadata": {
            "tags": []
          },
          "execution_count": 6
        }
      ]
    },
    {
      "cell_type": "code",
      "metadata": {
        "colab": {
          "base_uri": "https://localhost:8080/"
        },
        "id": "HCBzJxXBc9d7",
        "outputId": "68e3179a-5b19-4417-be37-ef2b9ef0a9a7"
      },
      "source": [
        "dataset.pop('Origin')"
      ],
      "execution_count": null,
      "outputs": [
        {
          "output_type": "execute_result",
          "data": {
            "text/plain": [
              "0      1\n",
              "1      1\n",
              "2      1\n",
              "3      1\n",
              "4      1\n",
              "      ..\n",
              "393    1\n",
              "394    2\n",
              "395    1\n",
              "396    1\n",
              "397    1\n",
              "Name: Origin, Length: 392, dtype: int64"
            ]
          },
          "metadata": {
            "tags": []
          },
          "execution_count": 7
        }
      ]
    },
    {
      "cell_type": "code",
      "metadata": {
        "id": "e8IX6hcTc9d-"
      },
      "source": [
        "train_dataset = dataset.sample(frac = 0.8, random_state = 0)\n",
        "test_dataset = dataset.drop(train_dataset.index)"
      ],
      "execution_count": null,
      "outputs": []
    },
    {
      "cell_type": "code",
      "metadata": {
        "colab": {
          "base_uri": "https://localhost:8080/"
        },
        "id": "gKKpP2rwc9d_",
        "outputId": "8c51b294-aa44-4fa9-8aa6-66bc9a4f0087"
      },
      "source": [
        "print(train_dataset.shape)\n",
        "print(test_dataset.shape)"
      ],
      "execution_count": null,
      "outputs": [
        {
          "output_type": "stream",
          "text": [
            "(314, 7)\n",
            "(78, 7)\n"
          ],
          "name": "stdout"
        }
      ]
    },
    {
      "cell_type": "code",
      "metadata": {
        "colab": {
          "base_uri": "https://localhost:8080/",
          "height": 235
        },
        "id": "wCfJCIV4c9d_",
        "outputId": "302d3465-347f-45c2-c108-c7feec36ee76"
      },
      "source": [
        "train_stats = train_dataset.describe()\n",
        "train_stats.pop('MPG')\n",
        "train_stats = train_stats.transpose()\n",
        "train_stats"
      ],
      "execution_count": null,
      "outputs": [
        {
          "output_type": "execute_result",
          "data": {
            "text/html": [
              "<div>\n",
              "<style scoped>\n",
              "    .dataframe tbody tr th:only-of-type {\n",
              "        vertical-align: middle;\n",
              "    }\n",
              "\n",
              "    .dataframe tbody tr th {\n",
              "        vertical-align: top;\n",
              "    }\n",
              "\n",
              "    .dataframe thead th {\n",
              "        text-align: right;\n",
              "    }\n",
              "</style>\n",
              "<table border=\"1\" class=\"dataframe\">\n",
              "  <thead>\n",
              "    <tr style=\"text-align: right;\">\n",
              "      <th></th>\n",
              "      <th>count</th>\n",
              "      <th>mean</th>\n",
              "      <th>std</th>\n",
              "      <th>min</th>\n",
              "      <th>25%</th>\n",
              "      <th>50%</th>\n",
              "      <th>75%</th>\n",
              "      <th>max</th>\n",
              "    </tr>\n",
              "  </thead>\n",
              "  <tbody>\n",
              "    <tr>\n",
              "      <th>Cylinders</th>\n",
              "      <td>314.0</td>\n",
              "      <td>5.477707</td>\n",
              "      <td>1.699788</td>\n",
              "      <td>3.0</td>\n",
              "      <td>4.00</td>\n",
              "      <td>4.0</td>\n",
              "      <td>8.00</td>\n",
              "      <td>8.0</td>\n",
              "    </tr>\n",
              "    <tr>\n",
              "      <th>Displacement</th>\n",
              "      <td>314.0</td>\n",
              "      <td>195.318471</td>\n",
              "      <td>104.331589</td>\n",
              "      <td>68.0</td>\n",
              "      <td>105.50</td>\n",
              "      <td>151.0</td>\n",
              "      <td>265.75</td>\n",
              "      <td>455.0</td>\n",
              "    </tr>\n",
              "    <tr>\n",
              "      <th>Horsepower</th>\n",
              "      <td>314.0</td>\n",
              "      <td>104.869427</td>\n",
              "      <td>38.096214</td>\n",
              "      <td>46.0</td>\n",
              "      <td>76.25</td>\n",
              "      <td>94.5</td>\n",
              "      <td>128.00</td>\n",
              "      <td>225.0</td>\n",
              "    </tr>\n",
              "    <tr>\n",
              "      <th>Weight</th>\n",
              "      <td>314.0</td>\n",
              "      <td>2990.251592</td>\n",
              "      <td>843.898596</td>\n",
              "      <td>1649.0</td>\n",
              "      <td>2256.50</td>\n",
              "      <td>2822.5</td>\n",
              "      <td>3608.00</td>\n",
              "      <td>5140.0</td>\n",
              "    </tr>\n",
              "    <tr>\n",
              "      <th>Acceleration</th>\n",
              "      <td>314.0</td>\n",
              "      <td>15.559236</td>\n",
              "      <td>2.789230</td>\n",
              "      <td>8.0</td>\n",
              "      <td>13.80</td>\n",
              "      <td>15.5</td>\n",
              "      <td>17.20</td>\n",
              "      <td>24.8</td>\n",
              "    </tr>\n",
              "    <tr>\n",
              "      <th>Model Year</th>\n",
              "      <td>314.0</td>\n",
              "      <td>75.898089</td>\n",
              "      <td>3.675642</td>\n",
              "      <td>70.0</td>\n",
              "      <td>73.00</td>\n",
              "      <td>76.0</td>\n",
              "      <td>79.00</td>\n",
              "      <td>82.0</td>\n",
              "    </tr>\n",
              "  </tbody>\n",
              "</table>\n",
              "</div>"
            ],
            "text/plain": [
              "              count         mean         std  ...     50%      75%     max\n",
              "Cylinders     314.0     5.477707    1.699788  ...     4.0     8.00     8.0\n",
              "Displacement  314.0   195.318471  104.331589  ...   151.0   265.75   455.0\n",
              "Horsepower    314.0   104.869427   38.096214  ...    94.5   128.00   225.0\n",
              "Weight        314.0  2990.251592  843.898596  ...  2822.5  3608.00  5140.0\n",
              "Acceleration  314.0    15.559236    2.789230  ...    15.5    17.20    24.8\n",
              "Model Year    314.0    75.898089    3.675642  ...    76.0    79.00    82.0\n",
              "\n",
              "[6 rows x 8 columns]"
            ]
          },
          "metadata": {
            "tags": []
          },
          "execution_count": 10
        }
      ]
    },
    {
      "cell_type": "code",
      "metadata": {
        "id": "tZRgTwqpc9eA"
      },
      "source": [
        "train_labels = train_dataset.pop('MPG')\n",
        "test_labels = test_dataset.pop('MPG')"
      ],
      "execution_count": null,
      "outputs": []
    },
    {
      "cell_type": "markdown",
      "metadata": {
        "id": "RQSRnHe0c9eA"
      },
      "source": [
        "### c-3. Data Normalization"
      ]
    },
    {
      "cell_type": "code",
      "metadata": {
        "id": "WKlwV-P5c9eA"
      },
      "source": [
        "def norm(x):\n",
        "    return (x - train_stats['mean']) / train_stats['std']"
      ],
      "execution_count": null,
      "outputs": []
    },
    {
      "cell_type": "code",
      "metadata": {
        "id": "GXUbOtfNc9eA"
      },
      "source": [
        "normed_train_data = norm(train_dataset)\n",
        "normed_test_data = norm(test_dataset)"
      ],
      "execution_count": null,
      "outputs": []
    },
    {
      "cell_type": "code",
      "metadata": {
        "colab": {
          "base_uri": "https://localhost:8080/",
          "height": 204
        },
        "id": "WaycKl6tc9eA",
        "outputId": "fb20214c-2d95-4a86-fa29-455facf4e27d"
      },
      "source": [
        "normed_train_data.head()"
      ],
      "execution_count": null,
      "outputs": [
        {
          "output_type": "execute_result",
          "data": {
            "text/html": [
              "<div>\n",
              "<style scoped>\n",
              "    .dataframe tbody tr th:only-of-type {\n",
              "        vertical-align: middle;\n",
              "    }\n",
              "\n",
              "    .dataframe tbody tr th {\n",
              "        vertical-align: top;\n",
              "    }\n",
              "\n",
              "    .dataframe thead th {\n",
              "        text-align: right;\n",
              "    }\n",
              "</style>\n",
              "<table border=\"1\" class=\"dataframe\">\n",
              "  <thead>\n",
              "    <tr style=\"text-align: right;\">\n",
              "      <th></th>\n",
              "      <th>Cylinders</th>\n",
              "      <th>Displacement</th>\n",
              "      <th>Horsepower</th>\n",
              "      <th>Weight</th>\n",
              "      <th>Acceleration</th>\n",
              "      <th>Model Year</th>\n",
              "    </tr>\n",
              "  </thead>\n",
              "  <tbody>\n",
              "    <tr>\n",
              "      <th>146</th>\n",
              "      <td>-0.869348</td>\n",
              "      <td>-1.009459</td>\n",
              "      <td>-0.784052</td>\n",
              "      <td>-1.025303</td>\n",
              "      <td>-0.379759</td>\n",
              "      <td>-0.516397</td>\n",
              "    </tr>\n",
              "    <tr>\n",
              "      <th>282</th>\n",
              "      <td>-0.869348</td>\n",
              "      <td>-0.530218</td>\n",
              "      <td>-0.442811</td>\n",
              "      <td>-0.118796</td>\n",
              "      <td>0.624102</td>\n",
              "      <td>0.843910</td>\n",
              "    </tr>\n",
              "    <tr>\n",
              "      <th>69</th>\n",
              "      <td>1.483887</td>\n",
              "      <td>1.482595</td>\n",
              "      <td>1.447140</td>\n",
              "      <td>1.736877</td>\n",
              "      <td>-0.738281</td>\n",
              "      <td>-1.060519</td>\n",
              "    </tr>\n",
              "    <tr>\n",
              "      <th>378</th>\n",
              "      <td>-0.869348</td>\n",
              "      <td>-0.865687</td>\n",
              "      <td>-1.099044</td>\n",
              "      <td>-1.025303</td>\n",
              "      <td>-0.308055</td>\n",
              "      <td>1.660094</td>\n",
              "    </tr>\n",
              "    <tr>\n",
              "      <th>331</th>\n",
              "      <td>-0.869348</td>\n",
              "      <td>-0.942365</td>\n",
              "      <td>-0.994047</td>\n",
              "      <td>-1.001603</td>\n",
              "      <td>0.875068</td>\n",
              "      <td>1.115971</td>\n",
              "    </tr>\n",
              "  </tbody>\n",
              "</table>\n",
              "</div>"
            ],
            "text/plain": [
              "     Cylinders  Displacement  Horsepower    Weight  Acceleration  Model Year\n",
              "146  -0.869348     -1.009459   -0.784052 -1.025303     -0.379759   -0.516397\n",
              "282  -0.869348     -0.530218   -0.442811 -0.118796      0.624102    0.843910\n",
              "69    1.483887      1.482595    1.447140  1.736877     -0.738281   -1.060519\n",
              "378  -0.869348     -0.865687   -1.099044 -1.025303     -0.308055    1.660094\n",
              "331  -0.869348     -0.942365   -0.994047 -1.001603      0.875068    1.115971"
            ]
          },
          "metadata": {
            "tags": []
          },
          "execution_count": 14
        }
      ]
    },
    {
      "cell_type": "markdown",
      "metadata": {
        "id": "8RPPSNfxc9eB"
      },
      "source": [
        "### c-4. Build Model"
      ]
    },
    {
      "cell_type": "code",
      "metadata": {
        "colab": {
          "base_uri": "https://localhost:8080/"
        },
        "id": "UIhmCz2wc9eB",
        "outputId": "9d1c57ba-2f3f-4eda-b4ba-a1c9a6bc5c63"
      },
      "source": [
        "train_dataset.shape"
      ],
      "execution_count": null,
      "outputs": [
        {
          "output_type": "execute_result",
          "data": {
            "text/plain": [
              "(314, 6)"
            ]
          },
          "metadata": {
            "tags": []
          },
          "execution_count": 15
        }
      ]
    },
    {
      "cell_type": "code",
      "metadata": {
        "colab": {
          "base_uri": "https://localhost:8080/"
        },
        "id": "RPeqxBF1c9eB",
        "outputId": "4e1920d7-2f56-46e1-c325-20102ef05c66"
      },
      "source": [
        "inputs = keras.Input(shape=(train_dataset.shape[1],))\n",
        "inputs"
      ],
      "execution_count": null,
      "outputs": [
        {
          "output_type": "execute_result",
          "data": {
            "text/plain": [
              "<KerasTensor: shape=(None, 6) dtype=float32 (created by layer 'input_1')>"
            ]
          },
          "metadata": {
            "tags": []
          },
          "execution_count": 16
        }
      ]
    },
    {
      "cell_type": "code",
      "metadata": {
        "colab": {
          "base_uri": "https://localhost:8080/"
        },
        "id": "58OMq9czc9eB",
        "outputId": "768545cd-7483-456b-d014-ce22f31948c6"
      },
      "source": [
        "h = layers.Dense(64, activation='relu')(inputs)\n",
        "h = layers.Dense(32)(h)\n",
        "h"
      ],
      "execution_count": null,
      "outputs": [
        {
          "output_type": "execute_result",
          "data": {
            "text/plain": [
              "<KerasTensor: shape=(None, 32) dtype=float32 (created by layer 'dense_8')>"
            ]
          },
          "metadata": {
            "tags": []
          },
          "execution_count": 33
        }
      ]
    },
    {
      "cell_type": "code",
      "metadata": {
        "colab": {
          "base_uri": "https://localhost:8080/"
        },
        "id": "4XsvxoZLc9eC",
        "outputId": "9448ab17-853a-4f91-9401-0b26901c4afa"
      },
      "source": [
        "outputs = layers.Dense(1)(h)\n",
        "outputs"
      ],
      "execution_count": null,
      "outputs": [
        {
          "output_type": "execute_result",
          "data": {
            "text/plain": [
              "<KerasTensor: shape=(None, 1) dtype=float32 (created by layer 'dense_9')>"
            ]
          },
          "metadata": {
            "tags": []
          },
          "execution_count": 34
        }
      ]
    },
    {
      "cell_type": "code",
      "metadata": {
        "id": "UOZJUUiTc9eC"
      },
      "source": [
        "model = keras.Model(inputs = inputs, outputs = outputs)"
      ],
      "execution_count": null,
      "outputs": []
    },
    {
      "cell_type": "markdown",
      "metadata": {
        "id": "5diCww91c9eC"
      },
      "source": [
        "### c-5. Show Model Structure\n",
        "\n",
        "model.summary -> show brief model info"
      ]
    },
    {
      "cell_type": "code",
      "metadata": {
        "colab": {
          "base_uri": "https://localhost:8080/"
        },
        "id": "OwHL-pw_c9eC",
        "outputId": "6dfec5c6-bcd8-43e3-ab54-0921fa8b90d2"
      },
      "source": [
        "model.summary()"
      ],
      "execution_count": null,
      "outputs": [
        {
          "output_type": "stream",
          "text": [
            "Model: \"model_2\"\n",
            "_________________________________________________________________\n",
            "Layer (type)                 Output Shape              Param #   \n",
            "=================================================================\n",
            "input_1 (InputLayer)         [(None, 6)]               0         \n",
            "_________________________________________________________________\n",
            "dense_7 (Dense)              (None, 64)                448       \n",
            "_________________________________________________________________\n",
            "dense_8 (Dense)              (None, 32)                2080      \n",
            "_________________________________________________________________\n",
            "dense_9 (Dense)              (None, 1)                 33        \n",
            "=================================================================\n",
            "Total params: 2,561\n",
            "Trainable params: 2,561\n",
            "Non-trainable params: 0\n",
            "_________________________________________________________________\n"
          ],
          "name": "stdout"
        }
      ]
    },
    {
      "cell_type": "code",
      "metadata": {
        "colab": {
          "base_uri": "https://localhost:8080/",
          "height": 422
        },
        "id": "9XMCZMiOc9eC",
        "outputId": "7db1a754-e467-4938-c553-0d2e888c156f"
      },
      "source": [
        "keras.utils.plot_model(model, 'model.png', show_shapes=True)"
      ],
      "execution_count": null,
      "outputs": [
        {
          "output_type": "execute_result",
          "data": {
            "image/png": "[encoded data removed]",
            "text/plain": [
              "<IPython.core.display.Image object>"
            ]
          },
          "metadata": {
            "tags": []
          },
          "execution_count": 37
        }
      ]
    },
    {
      "cell_type": "markdown",
      "metadata": {
        "id": "biHIWTlCc9eD"
      },
      "source": [
        "### c-6. Set Loss Function & Optimizer Function\n",
        "\n",
        "model.compile -> set loss func and optimizer"
      ]
    },
    {
      "cell_type": "code",
      "metadata": {
        "id": "rvG6s773c9eD"
      },
      "source": [
        "model.compile(loss = 'mse', optimizer = tf.keras.optimizers.RMSprop(0.001))"
      ],
      "execution_count": null,
      "outputs": []
    },
    {
      "cell_type": "markdown",
      "metadata": {
        "id": "h0QoF_XYc9eD"
      },
      "source": [
        "### c-7. Verify Calculation\n",
        "\n",
        "model.predict -> calculate y based on x and parameters"
      ]
    },
    {
      "cell_type": "code",
      "metadata": {
        "colab": {
          "base_uri": "https://localhost:8080/"
        },
        "id": "bA4Aduvlc9eD",
        "outputId": "b78d3cfb-d66c-4a2a-daa1-1e7764c002eb"
      },
      "source": [
        "example_batch = normed_train_data[:10]\n",
        "example_result = model.predict(example_batch)\n",
        "example_result"
      ],
      "execution_count": null,
      "outputs": [
        {
          "output_type": "execute_result",
          "data": {
            "text/plain": [
              "array([[-0.12803721],\n",
              "       [-0.30556986],\n",
              "       [ 1.0647604 ],\n",
              "       [-0.763842  ],\n",
              "       [-0.68744737],\n",
              "       [-0.2217588 ],\n",
              "       [-0.80775833],\n",
              "       [-0.66005087],\n",
              "       [-0.08587733],\n",
              "       [-0.25764796]], dtype=float32)"
            ]
          },
          "metadata": {
            "tags": []
          },
          "execution_count": 23
        }
      ]
    },
    {
      "cell_type": "markdown",
      "metadata": {
        "id": "Yg5qd51Bc9eD"
      },
      "source": [
        "### c-8. Run Model\n",
        "\n",
        "model.fit -> Run Learning Process."
      ]
    },
    {
      "cell_type": "code",
      "metadata": {
        "id": "P-V0pwyPc9eD"
      },
      "source": [
        "epochs = 100\n",
        "\n",
        "history = model.fit(\n",
        "    normed_train_data,\n",
        "    train_labels,\n",
        "    epochs = epochs,\n",
        "    validation_split = 0.2\n",
        ")"
      ],
      "execution_count": null,
      "outputs": []
    },
    {
      "cell_type": "code",
      "metadata": {
        "id": "IahUtkXrc9eE"
      },
      "source": [
        "early_stop = keras.callbacks.EarlyStopping(monitor = 'val_loss', patience = 3)\n",
        "\n",
        "history = model.fit(\n",
        "    normed_train_data,\n",
        "    train_labels,\n",
        "    epochs = epochs,\n",
        "    validation_split = 0.2\n",
        ")"
      ],
      "execution_count": null,
      "outputs": []
    },
    {
      "cell_type": "code",
      "metadata": {
        "colab": {
          "base_uri": "https://localhost:8080/"
        },
        "id": "5B0d6LYNc9eE",
        "outputId": "e59d4b0a-761c-4189-b432-50692a37b856"
      },
      "source": [
        "loss = model.evaluate(normed_test_data, test_labels, verbose = 2)\n",
        "print('Average MSE : {:5.2f} MPG'.format(loss))"
      ],
      "execution_count": null,
      "outputs": [
        {
          "output_type": "stream",
          "text": [
            "3/3 - 0s - loss: 6.6569\n",
            "Average MSE :  6.66 MPG\n"
          ],
          "name": "stdout"
        }
      ]
    },
    {
      "cell_type": "code",
      "metadata": {
        "colab": {
          "base_uri": "https://localhost:8080/",
          "height": 279
        },
        "id": "gqz4fTmlc9eE",
        "outputId": "440c4e8f-9599-4c52-9501-edff6476c425"
      },
      "source": [
        "test_predictions = model.predict(normed_test_data).flatten()\n",
        "\n",
        "plt.scatter(test_labels, test_predictions)\n",
        "plt.xlabel('True Value MPG')\n",
        "plt.ylabel('Predictions MPG')\n",
        "plt.axis('equal')\n",
        "plt.axis('square')\n",
        "plt.xlim([0, plt.xlim()[1]])\n",
        "plt.ylim([0, plt.ylim()[1]])\n",
        "_ = plt.plot([-100, 100], [-100, 100])"
      ],
      "execution_count": null,
      "outputs": [
        {
          "output_type": "display_data",
          "data": {
            "image/png": "[encoded data removed]",
            "text/plain": [
              "<Figure size 432x288 with 1 Axes>"
            ]
          },
          "metadata": {
            "tags": [],
            "needs_background": "light"
          }
        }
      ]
    },
    {
      "cell_type": "code",
      "metadata": {
        "colab": {
          "base_uri": "https://localhost:8080/"
        },
        "id": "C2icOQSipVGB",
        "outputId": "a2d65253-65ab-4735-b7b1-8f6ccb665818"
      },
      "source": [
        "maxsize = 0\n",
        "numRow = len(board)\n",
        "numCol = len(board[0])\n",
        "areaX = [-1, -1]\n",
        "areaY = [-1, -1]\n",
        "\n",
        "for y in range(numRow):\n",
        "    for x in range(numCol):\n",
        "        if board[y][x] == 1:\n",
        "            offset = 0\n",
        "            \n",
        "            while True:\n",
        "                if x in range(*areaX) or y in range(*areaY):\n",
        "                    break\n",
        "                \n",
        "                offset += 1\n",
        "                \n",
        "                newY = y + offset\n",
        "                newX = x + offset\n",
        "                \n",
        "                print(f'Offset: ({y}, {x}) to ({newY}, {newX})')\n",
        "                \n",
        "                if newY >= numRow or newX >= numCol:\n",
        "                    print('Out of boundary')\n",
        "                    break\n",
        "                    \n",
        "                newRow = board[newY][x:newX + 1]    # newRow = \n",
        "                newCol = [sublist[newX] for sublist in board[y:newY + 1]]\n",
        "                \n",
        "                print('new row:', newRow)\n",
        "                print('new col:', newCol)\n",
        "                \n",
        "                if 0 in newRow or 0 in newCol:\n",
        "                    break\n",
        "            \n",
        "            print(f'current size: {offset}')\n",
        "            \n",
        "            if offset ** 2 > maxsize:\n",
        "                maxsize = offset ** 2\n",
        "                \n",
        "                areaX[0] = x\n",
        "                areaX[1] = newX\n",
        "                areaY[0] = y\n",
        "                areaY[1] = newY\n",
        "\n",
        "            print(areaX, areaY)"
      ],
      "execution_count": null,
      "outputs": [
        {
          "output_type": "stream",
          "text": [
            "Offset: (0, 1) to (1, 2)\n",
            "new row: [1, 1]\n",
            "new col: [1, 1]\n",
            "Offset: (0, 1) to (2, 3)\n",
            "new row: [1, 1, 1]\n",
            "new col: [1, 1, 1]\n",
            "Offset: (0, 1) to (3, 4)\n",
            "Out of boundary\n",
            "current size: 3\n",
            "[1, 4] [0, 3]\n",
            "current size: 0\n",
            "[1, 4] [0, 3]\n",
            "current size: 0\n",
            "[1, 4] [0, 3]\n",
            "current size: 0\n",
            "[1, 4] [0, 3]\n",
            "current size: 0\n",
            "[1, 4] [0, 3]\n",
            "current size: 0\n",
            "[1, 4] [0, 3]\n",
            "current size: 0\n",
            "[1, 4] [0, 3]\n",
            "current size: 0\n",
            "[1, 4] [0, 3]\n",
            "current size: 0\n",
            "[1, 4] [0, 3]\n",
            "current size: 0\n",
            "[1, 4] [0, 3]\n",
            "current size: 0\n",
            "[1, 4] [0, 3]\n",
            "current size: 0\n",
            "[1, 4] [0, 3]\n"
          ],
          "name": "stdout"
        }
      ]
    },
    {
      "cell_type": "code",
      "metadata": {
        "colab": {
          "base_uri": "https://localhost:8080/"
        },
        "id": "pTV23Yp4pnGn",
        "outputId": "fee1c434-0759-489e-934c-d0bead1878a5"
      },
      "source": [
        "list(range(*areaX))"
      ],
      "execution_count": null,
      "outputs": [
        {
          "output_type": "execute_result",
          "data": {
            "text/plain": [
              "[1, 2, 3]"
            ]
          },
          "metadata": {
            "tags": []
          },
          "execution_count": 67
        }
      ]
    },
    {
      "cell_type": "markdown",
      "metadata": {
        "id": "ibWKAe7qfvHl"
      },
      "source": [
        "## d. Linear Classification"
      ]
    },
    {
      "cell_type": "markdown",
      "metadata": {
        "id": "Qs4_lwuvhd6d"
      },
      "source": [
        "### d-1. Import Dataset"
      ]
    },
    {
      "cell_type": "code",
      "metadata": {
        "colab": {
          "base_uri": "https://localhost:8080/"
        },
        "id": "ZsQ7L5jff5wC",
        "outputId": "596ffe37-2cf9-4142-dcb1-6e688e05f03a"
      },
      "source": [
        "fashion_mnist = keras.datasets.fashion_mnist\n",
        "\n",
        "(train_images, train_labels), (test_images, test_labels) = fashion_mnist.load_data()"
      ],
      "execution_count": 3,
      "outputs": [
        {
          "output_type": "stream",
          "text": [
            "Downloading data from https://storage.googleapis.com/tensorflow/tf-keras-datasets/train-labels-idx1-ubyte.gz\n",
            "32768/29515 [=================================] - 0s 0us/step\n",
            "Downloading data from https://storage.googleapis.com/tensorflow/tf-keras-datasets/train-images-idx3-ubyte.gz\n",
            "26427392/26421880 [==============================] - 0s 0us/step\n",
            "Downloading data from https://storage.googleapis.com/tensorflow/tf-keras-datasets/t10k-labels-idx1-ubyte.gz\n",
            "8192/5148 [===============================================] - 0s 0us/step\n",
            "Downloading data from https://storage.googleapis.com/tensorflow/tf-keras-datasets/t10k-images-idx3-ubyte.gz\n",
            "4423680/4422102 [==============================] - 0s 0us/step\n"
          ],
          "name": "stdout"
        }
      ]
    },
    {
      "cell_type": "code",
      "metadata": {
        "id": "UvWqsXvigYcV"
      },
      "source": [
        "class_names = ['T-shirt', 'Trouser', 'Pullover', 'Dress', 'Coat', 'Sandal', 'Shirt', 'Sneaker', 'Bag', 'Ankle Boot']"
      ],
      "execution_count": 7,
      "outputs": []
    },
    {
      "cell_type": "code",
      "metadata": {
        "colab": {
          "base_uri": "https://localhost:8080/"
        },
        "id": "RsJ8gxmsgr2G",
        "outputId": "b2559034-b903-4d87-da1f-1c01c5c278be"
      },
      "source": [
        "train_images.shape"
      ],
      "execution_count": 8,
      "outputs": [
        {
          "output_type": "execute_result",
          "data": {
            "text/plain": [
              "(60000, 28, 28)"
            ]
          },
          "metadata": {
            "tags": []
          },
          "execution_count": 8
        }
      ]
    },
    {
      "cell_type": "code",
      "metadata": {
        "colab": {
          "base_uri": "https://localhost:8080/"
        },
        "id": "Ngy4qdFhguHS",
        "outputId": "5405f6a9-bf9a-4682-805b-dbac733e7fd3"
      },
      "source": [
        "test_images.shape"
      ],
      "execution_count": 9,
      "outputs": [
        {
          "output_type": "execute_result",
          "data": {
            "text/plain": [
              "(10000, 28, 28)"
            ]
          },
          "metadata": {
            "tags": []
          },
          "execution_count": 9
        }
      ]
    },
    {
      "cell_type": "markdown",
      "metadata": {
        "id": "FgcSdnI1hhRX"
      },
      "source": [
        "### d-2. Data Preprocessing"
      ]
    },
    {
      "cell_type": "code",
      "metadata": {
        "colab": {
          "base_uri": "https://localhost:8080/",
          "height": 265
        },
        "id": "FxjRn8ZsgwJX",
        "outputId": "02eaef3b-6216-4078-b3aa-14441fa48dc6"
      },
      "source": [
        "plt.figure()\n",
        "plt.imshow(train_images[0])\n",
        "plt.colorbar()\n",
        "plt.grid(False)\n",
        "plt.show()"
      ],
      "execution_count": 11,
      "outputs": [
        {
          "output_type": "display_data",
          "data": {
            "image/png": "[encoded data removed]",
            "text/plain": [
              "<Figure size 432x288 with 2 Axes>"
            ]
          },
          "metadata": {
            "tags": [],
            "needs_background": "light"
          }
        }
      ]
    },
    {
      "cell_type": "code",
      "metadata": {
        "id": "yvd4kWDOhpdO"
      },
      "source": [
        "train_images = train_images / 255.0\n",
        "test_images = test_images / 255.0"
      ],
      "execution_count": 12,
      "outputs": []
    },
    {
      "cell_type": "code",
      "metadata": {
        "colab": {
          "base_uri": "https://localhost:8080/",
          "height": 589
        },
        "id": "TJri5Lqsh1hN",
        "outputId": "d84a8d64-b788-4588-a555-2d618451b584"
      },
      "source": [
        "plt.figure(figsize = (10, 10))\n",
        "for i in range(25):\n",
        "    plt.subplot(5, 5, i + 1)\n",
        "    plt.xticks([])\n",
        "    plt.yticks([])\n",
        "    plt.grid(False)\n",
        "    plt.imshow(train_images[i], cmap = plt.cm.binary)\n",
        "    plt.xlabel(class_names[train_labels[i]])\n",
        "plt.show()"
      ],
      "execution_count": 15,
      "outputs": [
        {
          "output_type": "display_data",
          "data": {
            "image/png": "[encoded data removed]",
            "text/plain": [
              "<Figure size 720x720 with 25 Axes>"
            ]
          },
          "metadata": {
            "tags": []
          }
        }
      ]
    },
    {
      "cell_type": "markdown",
      "metadata": {
        "id": "SQ9_lA82iqfF"
      },
      "source": [
        "### d-3. Build Model"
      ]
    },
    {
      "cell_type": "code",
      "metadata": {
        "id": "aes2m7jmioYa"
      },
      "source": [
        "inputs = keras.Input(shape=(28, 28))\n",
        "h = layers.Flatten()(inputs)\n",
        "h = layers.Dense(128)(h)\n",
        "outputs = layers.Dense(10)(h)\n",
        "outputs = layers.Activation('softmax')(outputs)"
      ],
      "execution_count": 16,
      "outputs": []
    },
    {
      "cell_type": "code",
      "metadata": {
        "colab": {
          "base_uri": "https://localhost:8080/"
        },
        "id": "0Dw_DZ6Ci5uP",
        "outputId": "890399cd-41e4-4489-ff63-28801580c869"
      },
      "source": [
        "model = keras.Model(inputs = inputs, outputs = outputs)\n",
        "\n",
        "model.summary()"
      ],
      "execution_count": 17,
      "outputs": [
        {
          "output_type": "stream",
          "text": [
            "Model: \"model\"\n",
            "_________________________________________________________________\n",
            "Layer (type)                 Output Shape              Param #   \n",
            "=================================================================\n",
            "input_1 (InputLayer)         [(None, 28, 28)]          0         \n",
            "_________________________________________________________________\n",
            "flatten (Flatten)            (None, 784)               0         \n",
            "_________________________________________________________________\n",
            "dense (Dense)                (None, 128)               100480    \n",
            "_________________________________________________________________\n",
            "dense_1 (Dense)              (None, 10)                1290      \n",
            "_________________________________________________________________\n",
            "activation (Activation)      (None, 10)                0         \n",
            "=================================================================\n",
            "Total params: 101,770\n",
            "Trainable params: 101,770\n",
            "Non-trainable params: 0\n",
            "_________________________________________________________________\n"
          ],
          "name": "stdout"
        }
      ]
    },
    {
      "cell_type": "markdown",
      "metadata": {
        "id": "RqqdTrejkQjb"
      },
      "source": [
        "### d-4. Set Loss Function & Optimizer Function"
      ]
    },
    {
      "cell_type": "code",
      "metadata": {
        "id": "nMklZmO_jyfe"
      },
      "source": [
        "model.compile(optimizer = 'adam', loss = 'sparse_categorical_crossentropy', metrics = ['accuracy'])"
      ],
      "execution_count": 18,
      "outputs": []
    },
    {
      "cell_type": "markdown",
      "metadata": {
        "id": "S1l9amuckvRY"
      },
      "source": [
        "### d-5. Train Model"
      ]
    },
    {
      "cell_type": "code",
      "metadata": {
        "colab": {
          "base_uri": "https://localhost:8080/"
        },
        "id": "cpPbTH_uklvJ",
        "outputId": "f47ba220-3658-4b72-ada5-ae11ce9b2fb9"
      },
      "source": [
        "model.fit(train_images, train_labels, epochs = 5, validation_split = 0.1)"
      ],
      "execution_count": 19,
      "outputs": [
        {
          "output_type": "stream",
          "text": [
            "Epoch 1/5\n",
            "1688/1688 [==============================] - 4s 2ms/step - loss: 0.5488 - accuracy: 0.8085 - val_loss: 0.5191 - val_accuracy: 0.8193\n",
            "Epoch 2/5\n",
            "1688/1688 [==============================] - 3s 2ms/step - loss: 0.4615 - accuracy: 0.8395 - val_loss: 0.4357 - val_accuracy: 0.8497\n",
            "Epoch 3/5\n",
            "1688/1688 [==============================] - 3s 2ms/step - loss: 0.4412 - accuracy: 0.8462 - val_loss: 0.4499 - val_accuracy: 0.8427\n",
            "Epoch 4/5\n",
            "1688/1688 [==============================] - 3s 2ms/step - loss: 0.4320 - accuracy: 0.8495 - val_loss: 0.4558 - val_accuracy: 0.8387\n",
            "Epoch 5/5\n",
            "1688/1688 [==============================] - 3s 2ms/step - loss: 0.4241 - accuracy: 0.8526 - val_loss: 0.4496 - val_accuracy: 0.8478\n"
          ],
          "name": "stdout"
        },
        {
          "output_type": "execute_result",
          "data": {
            "text/plain": [
              "<tensorflow.python.keras.callbacks.History at 0x7f87d167f210>"
            ]
          },
          "metadata": {
            "tags": []
          },
          "execution_count": 19
        }
      ]
    },
    {
      "cell_type": "markdown",
      "metadata": {
        "id": "j00HY3Hxk1h-"
      },
      "source": [
        "### d-6. Evaluate"
      ]
    },
    {
      "cell_type": "code",
      "metadata": {
        "colab": {
          "base_uri": "https://localhost:8080/"
        },
        "id": "xg65Zrzskryy",
        "outputId": "f803c6bf-1253-4eb8-f019-35521ae9098d"
      },
      "source": [
        "test_loss, test_acc = model.evaluate(test_images, test_labels, verbose = 2)"
      ],
      "execution_count": 20,
      "outputs": [
        {
          "output_type": "stream",
          "text": [
            "313/313 - 0s - loss: 0.4973 - accuracy: 0.8317\n"
          ],
          "name": "stdout"
        }
      ]
    },
    {
      "cell_type": "markdown",
      "metadata": {
        "id": "2KbEZ1mBk_kp"
      },
      "source": [
        "### d-7. Make Prediction"
      ]
    },
    {
      "cell_type": "code",
      "metadata": {
        "id": "bfZ40xVZk7PW"
      },
      "source": [
        "predictions = model.predict(test_images)"
      ],
      "execution_count": 21,
      "outputs": []
    },
    {
      "cell_type": "code",
      "metadata": {
        "colab": {
          "base_uri": "https://localhost:8080/"
        },
        "id": "Ehz8rkRKlEGa",
        "outputId": "0cb5f8b6-cfda-4d3e-867c-c3e7712bb6f7"
      },
      "source": [
        "predictions[0]"
      ],
      "execution_count": 22,
      "outputs": [
        {
          "output_type": "execute_result",
          "data": {
            "text/plain": [
              "array([1.2730045e-07, 2.6204525e-08, 3.0167207e-06, 1.6343089e-06,\n",
              "       5.0817748e-06, 7.5387545e-02, 2.9953376e-06, 6.0545873e-02,\n",
              "       1.6028738e-03, 8.6245090e-01], dtype=float32)"
            ]
          },
          "metadata": {
            "tags": []
          },
          "execution_count": 22
        }
      ]
    },
    {
      "cell_type": "code",
      "metadata": {
        "colab": {
          "base_uri": "https://localhost:8080/"
        },
        "id": "olCEs1KhlJYZ",
        "outputId": "1f787590-2460-4d34-c031-ab9ead2e7752"
      },
      "source": [
        "np.argmax(predictions[0])"
      ],
      "execution_count": 23,
      "outputs": [
        {
          "output_type": "execute_result",
          "data": {
            "text/plain": [
              "9"
            ]
          },
          "metadata": {
            "tags": []
          },
          "execution_count": 23
        }
      ]
    },
    {
      "cell_type": "code",
      "metadata": {
        "colab": {
          "base_uri": "https://localhost:8080/",
          "height": 279
        },
        "id": "00ke-rNhlMyz",
        "outputId": "fcc6bdad-cc6c-4ecc-f1ec-9205245b8a34"
      },
      "source": [
        "plt.imshow(test_images[0], cmap = plt.cm.binary)\n",
        "plt.xlabel(class_names[np.argmax(predictions[0])])\n",
        "plt.show()"
      ],
      "execution_count": 24,
      "outputs": [
        {
          "output_type": "display_data",
          "data": {
            "image/png": "[encoded data removed]",
            "text/plain": [
              "<Figure size 432x288 with 1 Axes>"
            ]
          },
          "metadata": {
            "tags": [],
            "needs_background": "light"
          }
        }
      ]
    },
    {
      "cell_type": "code",
      "metadata": {
        "id": "4fVPGArSlUns"
      },
      "source": [
        ""
      ],
      "execution_count": null,
      "outputs": []
    },
    {
      "cell_type": "markdown",
      "metadata": {
        "id": "GgEdyjTll6OR"
      },
      "source": [
        "## e. Linear Classification"
      ]
    },
    {
      "cell_type": "markdown",
      "metadata": {
        "id": "mfEhyREMl6OR"
      },
      "source": [
        "### e-1. Import Dataset"
      ]
    },
    {
      "cell_type": "code",
      "metadata": {
        "colab": {
          "base_uri": "https://localhost:8080/"
        },
        "id": "k6gFS97Fl6OR",
        "outputId": "596ffe37-2cf9-4142-dcb1-6e688e05f03a"
      },
      "source": [
        "fashion_mnist = keras.datasets.fashion_mnist\n",
        "\n",
        "(train_images, train_labels), (test_images, test_labels) = fashion_mnist.load_data()"
      ],
      "execution_count": null,
      "outputs": [
        {
          "output_type": "stream",
          "text": [
            "Downloading data from https://storage.googleapis.com/tensorflow/tf-keras-datasets/train-labels-idx1-ubyte.gz\n",
            "32768/29515 [=================================] - 0s 0us/step\n",
            "Downloading data from https://storage.googleapis.com/tensorflow/tf-keras-datasets/train-images-idx3-ubyte.gz\n",
            "26427392/26421880 [==============================] - 0s 0us/step\n",
            "Downloading data from https://storage.googleapis.com/tensorflow/tf-keras-datasets/t10k-labels-idx1-ubyte.gz\n",
            "8192/5148 [===============================================] - 0s 0us/step\n",
            "Downloading data from https://storage.googleapis.com/tensorflow/tf-keras-datasets/t10k-images-idx3-ubyte.gz\n",
            "4423680/4422102 [==============================] - 0s 0us/step\n"
          ],
          "name": "stdout"
        }
      ]
    },
    {
      "cell_type": "code",
      "metadata": {
        "id": "6hQmqW1_l6OT"
      },
      "source": [
        "class_names = ['T-shirt', 'Trouser', 'Pullover', 'Dress', 'Coat', 'Sandal', 'Shirt', 'Sneaker', 'Bag', 'Ankle Boot']"
      ],
      "execution_count": null,
      "outputs": []
    },
    {
      "cell_type": "code",
      "metadata": {
        "colab": {
          "base_uri": "https://localhost:8080/"
        },
        "id": "lYdqRcrYl6OT",
        "outputId": "b2559034-b903-4d87-da1f-1c01c5c278be"
      },
      "source": [
        "train_images.shape"
      ],
      "execution_count": null,
      "outputs": [
        {
          "output_type": "execute_result",
          "data": {
            "text/plain": [
              "(60000, 28, 28)"
            ]
          },
          "metadata": {
            "tags": []
          },
          "execution_count": 8
        }
      ]
    },
    {
      "cell_type": "code",
      "metadata": {
        "colab": {
          "base_uri": "https://localhost:8080/"
        },
        "id": "7xWmSJhfl6OT",
        "outputId": "5405f6a9-bf9a-4682-805b-dbac733e7fd3"
      },
      "source": [
        "test_images.shape"
      ],
      "execution_count": null,
      "outputs": [
        {
          "output_type": "execute_result",
          "data": {
            "text/plain": [
              "(10000, 28, 28)"
            ]
          },
          "metadata": {
            "tags": []
          },
          "execution_count": 9
        }
      ]
    },
    {
      "cell_type": "markdown",
      "metadata": {
        "id": "oe3WlQBQl6OT"
      },
      "source": [
        "### e-2. Data Preprocessing"
      ]
    },
    {
      "cell_type": "code",
      "metadata": {
        "colab": {
          "base_uri": "https://localhost:8080/",
          "height": 265
        },
        "id": "ZRZf9K0Al6OT",
        "outputId": "02eaef3b-6216-4078-b3aa-14441fa48dc6"
      },
      "source": [
        "plt.figure()\n",
        "plt.imshow(train_images[0])\n",
        "plt.colorbar()\n",
        "plt.grid(False)\n",
        "plt.show()"
      ],
      "execution_count": null,
      "outputs": [
        {
          "output_type": "display_data",
          "data": {
            "image/png": "[encoded data removed]",
            "text/plain": [
              "<Figure size 432x288 with 2 Axes>"
            ]
          },
          "metadata": {
            "tags": [],
            "needs_background": "light"
          }
        }
      ]
    },
    {
      "cell_type": "code",
      "metadata": {
        "id": "PCnTxWgGl6OU"
      },
      "source": [
        "train_images = train_images / 255.0\n",
        "test_images = test_images / 255.0"
      ],
      "execution_count": null,
      "outputs": []
    },
    {
      "cell_type": "code",
      "metadata": {
        "colab": {
          "base_uri": "https://localhost:8080/",
          "height": 589
        },
        "id": "t-XK3nGzl6OU",
        "outputId": "d84a8d64-b788-4588-a555-2d618451b584"
      },
      "source": [
        "plt.figure(figsize = (10, 10))\n",
        "for i in range(25):\n",
        "    plt.subplot(5, 5, i + 1)\n",
        "    plt.xticks([])\n",
        "    plt.yticks([])\n",
        "    plt.grid(False)\n",
        "    plt.imshow(train_images[i], cmap = plt.cm.binary)\n",
        "    plt.xlabel(class_names[train_labels[i]])\n",
        "plt.show()"
      ],
      "execution_count": null,
      "outputs": [
        {
          "output_type": "display_data",
          "data": {
            "image/png": "[encoded data removed]",
            "text/plain": [
              "<Figure size 720x720 with 25 Axes>"
            ]
          },
          "metadata": {
            "tags": []
          }
        }
      ]
    },
    {
      "cell_type": "markdown",
      "metadata": {
        "id": "aB_50YDcl6OU"
      },
      "source": [
        "### e-3. Build Model"
      ]
    },
    {
      "cell_type": "code",
      "metadata": {
        "id": "qLrM7TDZl6OU"
      },
      "source": [
        "inputs = keras.Input(shape=(28, 28))\n",
        "h = layers.Flatten()(inputs)\n",
        "h = layers.Dense(128)(h)\n",
        "\n",
        "h = layers.Activation('relu')(h)\n",
        "\n",
        "outputs = layers.Dense(10)(h)\n",
        "outputs = layers.Activation('softmax')(outputs)"
      ],
      "execution_count": 25,
      "outputs": []
    },
    {
      "cell_type": "code",
      "metadata": {
        "colab": {
          "base_uri": "https://localhost:8080/"
        },
        "id": "3fpKBzXTl6OU",
        "outputId": "250b8add-bbbb-408a-8bb0-fcfd42bda336"
      },
      "source": [
        "model = keras.Model(inputs = inputs, outputs = outputs)\n",
        "\n",
        "model.summary()"
      ],
      "execution_count": 26,
      "outputs": [
        {
          "output_type": "stream",
          "text": [
            "Model: \"model_1\"\n",
            "_________________________________________________________________\n",
            "Layer (type)                 Output Shape              Param #   \n",
            "=================================================================\n",
            "input_2 (InputLayer)         [(None, 28, 28)]          0         \n",
            "_________________________________________________________________\n",
            "flatten_1 (Flatten)          (None, 784)               0         \n",
            "_________________________________________________________________\n",
            "dense_2 (Dense)              (None, 128)               100480    \n",
            "_________________________________________________________________\n",
            "activation_1 (Activation)    (None, 128)               0         \n",
            "_________________________________________________________________\n",
            "dense_3 (Dense)              (None, 10)                1290      \n",
            "_________________________________________________________________\n",
            "activation_2 (Activation)    (None, 10)                0         \n",
            "=================================================================\n",
            "Total params: 101,770\n",
            "Trainable params: 101,770\n",
            "Non-trainable params: 0\n",
            "_________________________________________________________________\n"
          ],
          "name": "stdout"
        }
      ]
    },
    {
      "cell_type": "markdown",
      "metadata": {
        "id": "_YjNKNCel6OV"
      },
      "source": [
        "### e-4. Set Loss Function & Optimizer Function"
      ]
    },
    {
      "cell_type": "code",
      "metadata": {
        "id": "LKesxpx2l6OV"
      },
      "source": [
        "model.compile(optimizer = 'adam', loss = 'sparse_categorical_crossentropy', metrics = ['accuracy'])"
      ],
      "execution_count": 27,
      "outputs": []
    },
    {
      "cell_type": "markdown",
      "metadata": {
        "id": "AEpEEQBcl6OV"
      },
      "source": [
        "### e-5. Train Model"
      ]
    },
    {
      "cell_type": "code",
      "metadata": {
        "id": "hs6UpptNn-y6"
      },
      "source": [
        "early_stop = keras.callbacks.EarlyStopping(monitor = 'val_loss', patience = 3)"
      ],
      "execution_count": 41,
      "outputs": []
    },
    {
      "cell_type": "code",
      "metadata": {
        "colab": {
          "base_uri": "https://localhost:8080/"
        },
        "id": "s-jbz36al6OV",
        "outputId": "605883fe-0900-4d2a-d26a-5913039d3f6c"
      },
      "source": [
        "model.fit(train_images, train_labels, epochs = 100, validation_split = 0.1, callbacks = [early_stop])"
      ],
      "execution_count": 42,
      "outputs": [
        {
          "output_type": "stream",
          "text": [
            "Epoch 1/100\n",
            "1688/1688 [==============================] - 3s 2ms/step - loss: 0.1680 - accuracy: 0.9361 - val_loss: 0.3360 - val_accuracy: 0.8918\n",
            "Epoch 2/100\n",
            "1688/1688 [==============================] - 3s 2ms/step - loss: 0.1606 - accuracy: 0.9393 - val_loss: 0.3649 - val_accuracy: 0.8880\n",
            "Epoch 3/100\n",
            "1688/1688 [==============================] - 3s 2ms/step - loss: 0.1604 - accuracy: 0.9396 - val_loss: 0.3463 - val_accuracy: 0.8920\n",
            "Epoch 4/100\n",
            "1688/1688 [==============================] - 3s 2ms/step - loss: 0.1532 - accuracy: 0.9420 - val_loss: 0.3614 - val_accuracy: 0.8935\n"
          ],
          "name": "stdout"
        },
        {
          "output_type": "execute_result",
          "data": {
            "text/plain": [
              "<tensorflow.python.keras.callbacks.History at 0x7f87c9793410>"
            ]
          },
          "metadata": {
            "tags": []
          },
          "execution_count": 42
        }
      ]
    },
    {
      "cell_type": "markdown",
      "metadata": {
        "id": "vZ2nxvW-l6OV"
      },
      "source": [
        "### e-6. Evaluate"
      ]
    },
    {
      "cell_type": "code",
      "metadata": {
        "colab": {
          "base_uri": "https://localhost:8080/"
        },
        "id": "JZ9JF_Vel6OV",
        "outputId": "4802b6c9-1ef4-45f7-9d92-757e9ec08ef1"
      },
      "source": [
        "test_loss, test_acc = model.evaluate(test_images, test_labels, verbose = 2)"
      ],
      "execution_count": 43,
      "outputs": [
        {
          "output_type": "stream",
          "text": [
            "313/313 - 0s - loss: 0.3696 - accuracy: 0.8897\n"
          ],
          "name": "stdout"
        }
      ]
    },
    {
      "cell_type": "markdown",
      "metadata": {
        "id": "BFrAD-fhl6OV"
      },
      "source": [
        "### e-7. Make Prediction"
      ]
    },
    {
      "cell_type": "code",
      "metadata": {
        "id": "uVF_o60_l6OW"
      },
      "source": [
        "predictions = model.predict(test_images)"
      ],
      "execution_count": 44,
      "outputs": []
    },
    {
      "cell_type": "code",
      "metadata": {
        "colab": {
          "base_uri": "https://localhost:8080/"
        },
        "id": "RWyduEWul6OW",
        "outputId": "431e6b4a-eb6a-4525-8643-3e2e8df8758a"
      },
      "source": [
        "predictions[0]"
      ],
      "execution_count": 45,
      "outputs": [
        {
          "output_type": "execute_result",
          "data": {
            "text/plain": [
              "array([6.8824924e-10, 8.2748038e-18, 3.7389480e-11, 3.3400997e-13,\n",
              "       3.4131263e-12, 9.3298223e-07, 1.3841987e-11, 5.5914617e-05,\n",
              "       8.6825480e-10, 9.9994314e-01], dtype=float32)"
            ]
          },
          "metadata": {
            "tags": []
          },
          "execution_count": 45
        }
      ]
    },
    {
      "cell_type": "code",
      "metadata": {
        "colab": {
          "base_uri": "https://localhost:8080/"
        },
        "id": "dF96mCf6l6OW",
        "outputId": "6067c6a9-0f0e-4b45-eef5-112febc32c1d"
      },
      "source": [
        "np.argmax(predictions[0])"
      ],
      "execution_count": 46,
      "outputs": [
        {
          "output_type": "execute_result",
          "data": {
            "text/plain": [
              "9"
            ]
          },
          "metadata": {
            "tags": []
          },
          "execution_count": 46
        }
      ]
    },
    {
      "cell_type": "code",
      "metadata": {
        "colab": {
          "base_uri": "https://localhost:8080/",
          "height": 279
        },
        "id": "E-VUjpkDl6OW",
        "outputId": "cde321a0-fa72-4143-8f4f-4b79d43fe875"
      },
      "source": [
        "plt.imshow(test_images[0], cmap = plt.cm.binary)\n",
        "plt.xlabel(class_names[np.argmax(predictions[0])])\n",
        "plt.show()"
      ],
      "execution_count": 47,
      "outputs": [
        {
          "output_type": "display_data",
          "data": {
            "image/png": "[encoded data removed]",
            "text/plain": [
              "<Figure size 432x288 with 1 Axes>"
            ]
          },
          "metadata": {
            "tags": [],
            "needs_background": "light"
          }
        }
      ]
    },
    {
      "cell_type": "code",
      "metadata": {
        "colab": {
          "base_uri": "https://localhost:8080/"
        },
        "id": "OZ9ZWEDOn2K3",
        "outputId": "3525436e-fd25-4d7a-c343-7a5a403efa82"
      },
      "source": [
        "!git push --set-upstream origin main"
      ],
      "execution_count": 58,
      "outputs": [
        {
          "output_type": "stream",
          "text": [
            "error: src refspec main does not match any.\n",
            "error: failed to push some refs to 'https://github.com/osam_lecture'\n"
          ],
          "name": "stdout"
        }
      ]
    },
    {
      "cell_type": "code",
      "metadata": {
        "id": "hHHhj77YsLPm"
      },
      "source": [
        "!git config --global user.email fromakim@gmail.com\n",
        "!git config --global user.name fromakim"
      ],
      "execution_count": 52,
      "outputs": []
    }
  ]
}